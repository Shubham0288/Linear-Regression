{
 "cells": [
  {
   "cell_type": "code",
   "execution_count": 1,
   "id": "2f1111b8",
   "metadata": {},
   "outputs": [],
   "source": [
    "import pandas as pd\n",
    "import numpy as np"
   ]
  },
  {
   "cell_type": "code",
   "execution_count": 2,
   "id": "2a057187",
   "metadata": {},
   "outputs": [],
   "source": [
    "df=pd.read_csv('D:\\Imarticus Learning\\DATASETS\\car_price.csv')"
   ]
  },
  {
   "cell_type": "code",
   "execution_count": 3,
   "id": "3db7e186",
   "metadata": {},
   "outputs": [
    {
     "data": {
      "text/html": [
       "<div>\n",
       "<style scoped>\n",
       "    .dataframe tbody tr th:only-of-type {\n",
       "        vertical-align: middle;\n",
       "    }\n",
       "\n",
       "    .dataframe tbody tr th {\n",
       "        vertical-align: top;\n",
       "    }\n",
       "\n",
       "    .dataframe thead th {\n",
       "        text-align: right;\n",
       "    }\n",
       "</style>\n",
       "<table border=\"1\" class=\"dataframe\">\n",
       "  <thead>\n",
       "    <tr style=\"text-align: right;\">\n",
       "      <th></th>\n",
       "      <th>symboling</th>\n",
       "      <th>normalized_losses</th>\n",
       "      <th>Fuel_type</th>\n",
       "      <th>make</th>\n",
       "      <th>num_of_doors</th>\n",
       "      <th>aspiration</th>\n",
       "      <th>wheel_base</th>\n",
       "      <th>engine_location</th>\n",
       "      <th>drive_wheels</th>\n",
       "      <th>body_style</th>\n",
       "      <th>...</th>\n",
       "      <th>engine_size</th>\n",
       "      <th>fuel_system</th>\n",
       "      <th>bore</th>\n",
       "      <th>stroke</th>\n",
       "      <th>compression_ratio</th>\n",
       "      <th>horsepower</th>\n",
       "      <th>peak_rpm</th>\n",
       "      <th>city_mpg</th>\n",
       "      <th>highway_mpg</th>\n",
       "      <th>price</th>\n",
       "    </tr>\n",
       "  </thead>\n",
       "  <tbody>\n",
       "    <tr>\n",
       "      <th>0</th>\n",
       "      <td>3</td>\n",
       "      <td>?</td>\n",
       "      <td>gas</td>\n",
       "      <td>std</td>\n",
       "      <td>two</td>\n",
       "      <td>convertible</td>\n",
       "      <td>rwd</td>\n",
       "      <td>front</td>\n",
       "      <td>88.6</td>\n",
       "      <td>alfa-romero</td>\n",
       "      <td>...</td>\n",
       "      <td>130</td>\n",
       "      <td>mpfi</td>\n",
       "      <td>3.47</td>\n",
       "      <td>2.68</td>\n",
       "      <td>9.0</td>\n",
       "      <td>111</td>\n",
       "      <td>5000</td>\n",
       "      <td>21</td>\n",
       "      <td>27</td>\n",
       "      <td>13495</td>\n",
       "    </tr>\n",
       "    <tr>\n",
       "      <th>1</th>\n",
       "      <td>3</td>\n",
       "      <td>?</td>\n",
       "      <td>gas</td>\n",
       "      <td>std</td>\n",
       "      <td>two</td>\n",
       "      <td>convertible</td>\n",
       "      <td>rwd</td>\n",
       "      <td>front</td>\n",
       "      <td>88.6</td>\n",
       "      <td>alfa-romero</td>\n",
       "      <td>...</td>\n",
       "      <td>130</td>\n",
       "      <td>mpfi</td>\n",
       "      <td>3.47</td>\n",
       "      <td>2.68</td>\n",
       "      <td>9.0</td>\n",
       "      <td>111</td>\n",
       "      <td>5000</td>\n",
       "      <td>21</td>\n",
       "      <td>27</td>\n",
       "      <td>16500</td>\n",
       "    </tr>\n",
       "    <tr>\n",
       "      <th>2</th>\n",
       "      <td>1</td>\n",
       "      <td>?</td>\n",
       "      <td>gas</td>\n",
       "      <td>std</td>\n",
       "      <td>two</td>\n",
       "      <td>hatchback</td>\n",
       "      <td>rwd</td>\n",
       "      <td>front</td>\n",
       "      <td>94.5</td>\n",
       "      <td>alfa-romero</td>\n",
       "      <td>...</td>\n",
       "      <td>152</td>\n",
       "      <td>mpfi</td>\n",
       "      <td>2.68</td>\n",
       "      <td>3.47</td>\n",
       "      <td>9.0</td>\n",
       "      <td>154</td>\n",
       "      <td>5000</td>\n",
       "      <td>19</td>\n",
       "      <td>26</td>\n",
       "      <td>16500</td>\n",
       "    </tr>\n",
       "    <tr>\n",
       "      <th>3</th>\n",
       "      <td>2</td>\n",
       "      <td>164</td>\n",
       "      <td>gas</td>\n",
       "      <td>std</td>\n",
       "      <td>four</td>\n",
       "      <td>sedan</td>\n",
       "      <td>fwd</td>\n",
       "      <td>front</td>\n",
       "      <td>99.8</td>\n",
       "      <td>audi</td>\n",
       "      <td>...</td>\n",
       "      <td>109</td>\n",
       "      <td>mpfi</td>\n",
       "      <td>3.19</td>\n",
       "      <td>3.4</td>\n",
       "      <td>10.0</td>\n",
       "      <td>102</td>\n",
       "      <td>5500</td>\n",
       "      <td>24</td>\n",
       "      <td>30</td>\n",
       "      <td>13950</td>\n",
       "    </tr>\n",
       "    <tr>\n",
       "      <th>4</th>\n",
       "      <td>2</td>\n",
       "      <td>164</td>\n",
       "      <td>gas</td>\n",
       "      <td>std</td>\n",
       "      <td>four</td>\n",
       "      <td>sedan</td>\n",
       "      <td>4wd</td>\n",
       "      <td>front</td>\n",
       "      <td>99.4</td>\n",
       "      <td>audi</td>\n",
       "      <td>...</td>\n",
       "      <td>136</td>\n",
       "      <td>mpfi</td>\n",
       "      <td>3.19</td>\n",
       "      <td>3.4</td>\n",
       "      <td>8.0</td>\n",
       "      <td>115</td>\n",
       "      <td>5500</td>\n",
       "      <td>18</td>\n",
       "      <td>22</td>\n",
       "      <td>17450</td>\n",
       "    </tr>\n",
       "  </tbody>\n",
       "</table>\n",
       "<p>5 rows × 26 columns</p>\n",
       "</div>"
      ],
      "text/plain": [
       "   symboling normalized_losses Fuel_type make num_of_doors   aspiration  \\\n",
       "0          3                 ?       gas  std          two  convertible   \n",
       "1          3                 ?       gas  std          two  convertible   \n",
       "2          1                 ?       gas  std          two    hatchback   \n",
       "3          2               164       gas  std         four        sedan   \n",
       "4          2               164       gas  std         four        sedan   \n",
       "\n",
       "  wheel_base engine_location  drive_wheels   body_style  ...  engine_size  \\\n",
       "0        rwd           front          88.6  alfa-romero  ...          130   \n",
       "1        rwd           front          88.6  alfa-romero  ...          130   \n",
       "2        rwd           front          94.5  alfa-romero  ...          152   \n",
       "3        fwd           front          99.8         audi  ...          109   \n",
       "4        4wd           front          99.4         audi  ...          136   \n",
       "\n",
       "   fuel_system  bore  stroke compression_ratio horsepower  peak_rpm city_mpg  \\\n",
       "0         mpfi  3.47    2.68               9.0        111      5000       21   \n",
       "1         mpfi  3.47    2.68               9.0        111      5000       21   \n",
       "2         mpfi  2.68    3.47               9.0        154      5000       19   \n",
       "3         mpfi  3.19     3.4              10.0        102      5500       24   \n",
       "4         mpfi  3.19     3.4               8.0        115      5500       18   \n",
       "\n",
       "  highway_mpg  price  \n",
       "0          27  13495  \n",
       "1          27  16500  \n",
       "2          26  16500  \n",
       "3          30  13950  \n",
       "4          22  17450  \n",
       "\n",
       "[5 rows x 26 columns]"
      ]
     },
     "execution_count": 3,
     "metadata": {},
     "output_type": "execute_result"
    }
   ],
   "source": [
    "df.head()"
   ]
  },
  {
   "cell_type": "code",
   "execution_count": 4,
   "id": "0c556715",
   "metadata": {},
   "outputs": [],
   "source": [
    "df=df.replace({'?':np.nan})"
   ]
  },
  {
   "cell_type": "code",
   "execution_count": 5,
   "id": "9e51e75c",
   "metadata": {},
   "outputs": [
    {
     "data": {
      "text/plain": [
       "symboling             0\n",
       "normalized_losses    41\n",
       "Fuel_type             0\n",
       "make                  0\n",
       "num_of_doors          2\n",
       "aspiration            0\n",
       "wheel_base            0\n",
       "engine_location       0\n",
       "drive_wheels          0\n",
       "body_style            0\n",
       "length                0\n",
       "width                 0\n",
       "height                0\n",
       "curb_weight           0\n",
       "engine_type           0\n",
       "num_of_cylinders      0\n",
       "engine_size           0\n",
       "fuel_system           0\n",
       "bore                  4\n",
       "stroke                4\n",
       "compression_ratio     0\n",
       "horsepower            2\n",
       "peak_rpm              2\n",
       "city_mpg              0\n",
       "highway_mpg           0\n",
       "price                 4\n",
       "dtype: int64"
      ]
     },
     "execution_count": 5,
     "metadata": {},
     "output_type": "execute_result"
    }
   ],
   "source": [
    "df.isnull().sum()"
   ]
  },
  {
   "cell_type": "code",
   "execution_count": 6,
   "id": "26c8eeca",
   "metadata": {},
   "outputs": [
    {
     "name": "stdout",
     "output_type": "stream",
     "text": [
      "<class 'pandas.core.frame.DataFrame'>\n",
      "RangeIndex: 205 entries, 0 to 204\n",
      "Data columns (total 26 columns):\n",
      " #   Column             Non-Null Count  Dtype  \n",
      "---  ------             --------------  -----  \n",
      " 0   symboling          205 non-null    int64  \n",
      " 1   normalized_losses  164 non-null    object \n",
      " 2   Fuel_type          205 non-null    object \n",
      " 3   make               205 non-null    object \n",
      " 4   num_of_doors       203 non-null    object \n",
      " 5   aspiration         205 non-null    object \n",
      " 6   wheel_base         205 non-null    object \n",
      " 7   engine_location    205 non-null    object \n",
      " 8   drive_wheels       205 non-null    float64\n",
      " 9   body_style         205 non-null    object \n",
      " 10  length             205 non-null    float64\n",
      " 11  width              205 non-null    float64\n",
      " 12  height             205 non-null    float64\n",
      " 13  curb_weight        205 non-null    int64  \n",
      " 14  engine_type        205 non-null    object \n",
      " 15  num_of_cylinders   205 non-null    object \n",
      " 16  engine_size        205 non-null    int64  \n",
      " 17  fuel_system        205 non-null    object \n",
      " 18  bore               201 non-null    object \n",
      " 19  stroke             201 non-null    object \n",
      " 20  compression_ratio  205 non-null    float64\n",
      " 21  horsepower         203 non-null    object \n",
      " 22  peak_rpm           203 non-null    object \n",
      " 23  city_mpg           205 non-null    int64  \n",
      " 24  highway_mpg        205 non-null    int64  \n",
      " 25  price              201 non-null    object \n",
      "dtypes: float64(5), int64(5), object(16)\n",
      "memory usage: 41.8+ KB\n"
     ]
    }
   ],
   "source": [
    "df.info()"
   ]
  },
  {
   "cell_type": "code",
   "execution_count": 7,
   "id": "66401e70",
   "metadata": {},
   "outputs": [],
   "source": [
    "df['normalized_losses']=df['normalized_losses'].astype(float)"
   ]
  },
  {
   "cell_type": "code",
   "execution_count": 8,
   "id": "ae5fbc53",
   "metadata": {},
   "outputs": [
    {
     "data": {
      "text/plain": [
       "122.0"
      ]
     },
     "execution_count": 8,
     "metadata": {},
     "output_type": "execute_result"
    }
   ],
   "source": [
    "df.normalized_losses.mean()"
   ]
  },
  {
   "cell_type": "code",
   "execution_count": 9,
   "id": "7c2c170d",
   "metadata": {},
   "outputs": [],
   "source": [
    "df.normalized_losses.fillna(df.normalized_losses.mean(),inplace=True)"
   ]
  },
  {
   "cell_type": "code",
   "execution_count": 10,
   "id": "d950ae07",
   "metadata": {},
   "outputs": [
    {
     "data": {
      "text/plain": [
       "four    114\n",
       "two      89\n",
       "Name: num_of_doors, dtype: int64"
      ]
     },
     "execution_count": 10,
     "metadata": {},
     "output_type": "execute_result"
    }
   ],
   "source": [
    "df.num_of_doors.value_counts()"
   ]
  },
  {
   "cell_type": "code",
   "execution_count": 11,
   "id": "be02c32b",
   "metadata": {},
   "outputs": [],
   "source": [
    "df.num_of_doors.fillna(4,inplace=True)"
   ]
  },
  {
   "cell_type": "code",
   "execution_count": 12,
   "id": "bca63c84",
   "metadata": {},
   "outputs": [],
   "source": [
    "df.num_of_doors.replace({'four':4,'two':2},inplace=True)"
   ]
  },
  {
   "cell_type": "code",
   "execution_count": 13,
   "id": "e3001bc9",
   "metadata": {},
   "outputs": [],
   "source": [
    "df['num_of_doors']=df['num_of_doors'].astype(float)"
   ]
  },
  {
   "cell_type": "code",
   "execution_count": 14,
   "id": "bb1b9f85",
   "metadata": {},
   "outputs": [
    {
     "data": {
      "text/plain": [
       "four      159\n",
       "six        24\n",
       "five       11\n",
       "eight       5\n",
       "two         4\n",
       "three       1\n",
       "twelve      1\n",
       "Name: num_of_cylinders, dtype: int64"
      ]
     },
     "execution_count": 14,
     "metadata": {},
     "output_type": "execute_result"
    }
   ],
   "source": [
    "df.num_of_cylinders.value_counts()"
   ]
  },
  {
   "cell_type": "code",
   "execution_count": 15,
   "id": "85eb1f6e",
   "metadata": {},
   "outputs": [],
   "source": [
    "df.num_of_cylinders.replace({'four':4,'six':6,'five':5,'eight':8,'two':2,'three':3,'twelve':12},inplace=True)"
   ]
  },
  {
   "cell_type": "code",
   "execution_count": 16,
   "id": "db255c4b",
   "metadata": {},
   "outputs": [],
   "source": [
    "df['bore']=df['bore'].astype(float)"
   ]
  },
  {
   "cell_type": "code",
   "execution_count": 17,
   "id": "2834ef40",
   "metadata": {},
   "outputs": [
    {
     "data": {
      "text/plain": [
       "3.3297512437810943"
      ]
     },
     "execution_count": 17,
     "metadata": {},
     "output_type": "execute_result"
    }
   ],
   "source": [
    "df.bore.mean()"
   ]
  },
  {
   "cell_type": "code",
   "execution_count": 18,
   "id": "127ebb83",
   "metadata": {},
   "outputs": [],
   "source": [
    "df.bore.fillna(df.bore.mean(),inplace=True)"
   ]
  },
  {
   "cell_type": "code",
   "execution_count": 19,
   "id": "0596ef5f",
   "metadata": {},
   "outputs": [],
   "source": [
    "df['stroke']=df['stroke'].astype(float)\n",
    "df['horsepower']=df['horsepower'].astype(float)\n",
    "df['peak_rpm']=df['peak_rpm'].astype(float)\n",
    "df['price']=df['price'].astype(float)"
   ]
  },
  {
   "cell_type": "code",
   "execution_count": 20,
   "id": "1192c2e0",
   "metadata": {},
   "outputs": [],
   "source": [
    "df.stroke.fillna(df.stroke.mean(),inplace=True)\n",
    "df.horsepower.fillna(df.horsepower.mean(),inplace=True)\n",
    "df.peak_rpm.fillna(df.peak_rpm.mean(),inplace=True)\n",
    "#df.price.fillna(df.price.mean(),inplace=True)"
   ]
  },
  {
   "cell_type": "code",
   "execution_count": 21,
   "id": "747a9119",
   "metadata": {},
   "outputs": [],
   "source": [
    "df=df.dropna()"
   ]
  },
  {
   "cell_type": "code",
   "execution_count": 22,
   "id": "d505dc13",
   "metadata": {},
   "outputs": [
    {
     "data": {
      "text/plain": [
       "(201, 26)"
      ]
     },
     "execution_count": 22,
     "metadata": {},
     "output_type": "execute_result"
    }
   ],
   "source": [
    "df.shape"
   ]
  },
  {
   "cell_type": "code",
   "execution_count": 23,
   "id": "7d2a5772",
   "metadata": {},
   "outputs": [],
   "source": [
    "from sklearn.preprocessing import LabelEncoder # label encoder covert non numeric to number\n",
    "le=LabelEncoder()"
   ]
  },
  {
   "cell_type": "code",
   "execution_count": 24,
   "id": "dd710f6d",
   "metadata": {},
   "outputs": [],
   "source": [
    "df.Fuel_type=le.fit_transform(df.Fuel_type)\n",
    "df.make=le.fit_transform(df.make)\n",
    "df.aspiration=le.fit_transform(df.aspiration)\n",
    "df.wheel_base=le.fit_transform(df.wheel_base)\n",
    "df.engine_location=le.fit_transform(df.engine_location)\n",
    "df.body_style=le.fit_transform(df.body_style)\n",
    "df.engine_type=le.fit_transform(df.engine_type)\n",
    "df.fuel_system=le.fit_transform(df.fuel_system)"
   ]
  },
  {
   "cell_type": "code",
   "execution_count": 25,
   "id": "05c5d4ae",
   "metadata": {},
   "outputs": [],
   "source": [
    "df['Fuel_type']=df['Fuel_type'].astype(int)\n",
    "df['make']=df['make'].astype(float)\n",
    "df['aspiration']=df['aspiration'].astype(float)\n",
    "df['wheel_base']=df['wheel_base'].astype(float)\n",
    "df['engine_location']=df['engine_location'].astype(float)\n",
    "df['body_style']=df['body_style'].astype(float)\n",
    "df['engine_type']=df['engine_type'].astype(float)\n",
    "df['fuel_system']=df['fuel_system'].astype(float)"
   ]
  },
  {
   "cell_type": "code",
   "execution_count": 90,
   "id": "3190c34b",
   "metadata": {},
   "outputs": [],
   "source": [
    "df_x=df.iloc[:,0:-1]"
   ]
  },
  {
   "cell_type": "code",
   "execution_count": 92,
   "id": "994769ef",
   "metadata": {},
   "outputs": [],
   "source": [
    "cols=[]\n",
    "corr=[]\n",
    "for i in df_x:\n",
    "    cols.append(i)\n",
    "    corr.append(df_x[i].corr(df.price))\n",
    "    "
   ]
  },
  {
   "cell_type": "code",
   "execution_count": 93,
   "id": "2d53c1e6",
   "metadata": {},
   "outputs": [
    {
     "data": {
      "text/plain": [
       "25"
      ]
     },
     "execution_count": 93,
     "metadata": {},
     "output_type": "execute_result"
    }
   ],
   "source": [
    "len(cols)"
   ]
  },
  {
   "cell_type": "code",
   "execution_count": 94,
   "id": "79d0ebd9",
   "metadata": {},
   "outputs": [
    {
     "data": {
      "text/plain": [
       "25"
      ]
     },
     "execution_count": 94,
     "metadata": {},
     "output_type": "execute_result"
    }
   ],
   "source": [
    "len(corr)"
   ]
  },
  {
   "cell_type": "code",
   "execution_count": 95,
   "id": "bcc2a489",
   "metadata": {},
   "outputs": [
    {
     "data": {
      "text/plain": [
       "[-0.1268964294477802,\n",
       " 0.21078439369964175,\n",
       " -0.2373814587847606,\n",
       " 0.416771547619195,\n",
       " 0.1476899738125631,\n",
       " 0.09259582389727344,\n",
       " 0.574593946005565,\n",
       " nan,\n",
       " 0.667971711442344,\n",
       " -0.04326265635121585,\n",
       " 0.7316241032132996,\n",
       " 0.7903171314569148,\n",
       " 0.2580528785410843,\n",
       " 0.8545731038347579,\n",
       " -0.0496107159548964,\n",
       " 0.4590949131473826,\n",
       " 0.7501128578438296,\n",
       " 0.5912854374239989,\n",
       " 0.504434644052718,\n",
       " 0.07407552440885043,\n",
       " 0.19101658332458396,\n",
       " 0.7220095346364632,\n",
       " -0.13988171597728596,\n",
       " -0.6707022464573699,\n",
       " -0.6858552225231335]"
      ]
     },
     "execution_count": 95,
     "metadata": {},
     "output_type": "execute_result"
    }
   ],
   "source": [
    "corr"
   ]
  },
  {
   "cell_type": "code",
   "execution_count": 96,
   "id": "2378e2ba",
   "metadata": {},
   "outputs": [],
   "source": [
    "feat_imp=pd.DataFrame()"
   ]
  },
  {
   "cell_type": "code",
   "execution_count": 97,
   "id": "410580be",
   "metadata": {},
   "outputs": [],
   "source": [
    "feat_imp['Features']=cols\n",
    "feat_imp['Corr']=corr"
   ]
  },
  {
   "cell_type": "code",
   "execution_count": 98,
   "id": "769f4cd5",
   "metadata": {},
   "outputs": [
    {
     "data": {
      "text/html": [
       "<div>\n",
       "<style scoped>\n",
       "    .dataframe tbody tr th:only-of-type {\n",
       "        vertical-align: middle;\n",
       "    }\n",
       "\n",
       "    .dataframe tbody tr th {\n",
       "        vertical-align: top;\n",
       "    }\n",
       "\n",
       "    .dataframe thead th {\n",
       "        text-align: right;\n",
       "    }\n",
       "</style>\n",
       "<table border=\"1\" class=\"dataframe\">\n",
       "  <thead>\n",
       "    <tr style=\"text-align: right;\">\n",
       "      <th></th>\n",
       "      <th>Features</th>\n",
       "      <th>Corr</th>\n",
       "    </tr>\n",
       "  </thead>\n",
       "  <tbody>\n",
       "    <tr>\n",
       "      <th>0</th>\n",
       "      <td>symboling</td>\n",
       "      <td>-0.126896</td>\n",
       "    </tr>\n",
       "    <tr>\n",
       "      <th>1</th>\n",
       "      <td>normalized_losses</td>\n",
       "      <td>0.210784</td>\n",
       "    </tr>\n",
       "    <tr>\n",
       "      <th>2</th>\n",
       "      <td>Fuel_type</td>\n",
       "      <td>-0.237381</td>\n",
       "    </tr>\n",
       "    <tr>\n",
       "      <th>3</th>\n",
       "      <td>make</td>\n",
       "      <td>0.416772</td>\n",
       "    </tr>\n",
       "    <tr>\n",
       "      <th>4</th>\n",
       "      <td>num_of_doors</td>\n",
       "      <td>0.147690</td>\n",
       "    </tr>\n",
       "    <tr>\n",
       "      <th>5</th>\n",
       "      <td>aspiration</td>\n",
       "      <td>0.092596</td>\n",
       "    </tr>\n",
       "    <tr>\n",
       "      <th>6</th>\n",
       "      <td>wheel_base</td>\n",
       "      <td>0.574594</td>\n",
       "    </tr>\n",
       "    <tr>\n",
       "      <th>7</th>\n",
       "      <td>engine_location</td>\n",
       "      <td>NaN</td>\n",
       "    </tr>\n",
       "    <tr>\n",
       "      <th>8</th>\n",
       "      <td>drive_wheels</td>\n",
       "      <td>0.667972</td>\n",
       "    </tr>\n",
       "    <tr>\n",
       "      <th>9</th>\n",
       "      <td>body_style</td>\n",
       "      <td>-0.043263</td>\n",
       "    </tr>\n",
       "    <tr>\n",
       "      <th>10</th>\n",
       "      <td>length</td>\n",
       "      <td>0.731624</td>\n",
       "    </tr>\n",
       "    <tr>\n",
       "      <th>11</th>\n",
       "      <td>width</td>\n",
       "      <td>0.790317</td>\n",
       "    </tr>\n",
       "    <tr>\n",
       "      <th>12</th>\n",
       "      <td>height</td>\n",
       "      <td>0.258053</td>\n",
       "    </tr>\n",
       "    <tr>\n",
       "      <th>13</th>\n",
       "      <td>curb_weight</td>\n",
       "      <td>0.854573</td>\n",
       "    </tr>\n",
       "    <tr>\n",
       "      <th>14</th>\n",
       "      <td>engine_type</td>\n",
       "      <td>-0.049611</td>\n",
       "    </tr>\n",
       "    <tr>\n",
       "      <th>15</th>\n",
       "      <td>num_of_cylinders</td>\n",
       "      <td>0.459095</td>\n",
       "    </tr>\n",
       "    <tr>\n",
       "      <th>16</th>\n",
       "      <td>engine_size</td>\n",
       "      <td>0.750113</td>\n",
       "    </tr>\n",
       "    <tr>\n",
       "      <th>17</th>\n",
       "      <td>fuel_system</td>\n",
       "      <td>0.591285</td>\n",
       "    </tr>\n",
       "    <tr>\n",
       "      <th>18</th>\n",
       "      <td>bore</td>\n",
       "      <td>0.504435</td>\n",
       "    </tr>\n",
       "    <tr>\n",
       "      <th>19</th>\n",
       "      <td>stroke</td>\n",
       "      <td>0.074076</td>\n",
       "    </tr>\n",
       "    <tr>\n",
       "      <th>20</th>\n",
       "      <td>compression_ratio</td>\n",
       "      <td>0.191017</td>\n",
       "    </tr>\n",
       "    <tr>\n",
       "      <th>21</th>\n",
       "      <td>horsepower</td>\n",
       "      <td>0.722010</td>\n",
       "    </tr>\n",
       "    <tr>\n",
       "      <th>22</th>\n",
       "      <td>peak_rpm</td>\n",
       "      <td>-0.139882</td>\n",
       "    </tr>\n",
       "    <tr>\n",
       "      <th>23</th>\n",
       "      <td>city_mpg</td>\n",
       "      <td>-0.670702</td>\n",
       "    </tr>\n",
       "    <tr>\n",
       "      <th>24</th>\n",
       "      <td>highway_mpg</td>\n",
       "      <td>-0.685855</td>\n",
       "    </tr>\n",
       "  </tbody>\n",
       "</table>\n",
       "</div>"
      ],
      "text/plain": [
       "             Features      Corr\n",
       "0           symboling -0.126896\n",
       "1   normalized_losses  0.210784\n",
       "2           Fuel_type -0.237381\n",
       "3                make  0.416772\n",
       "4        num_of_doors  0.147690\n",
       "5          aspiration  0.092596\n",
       "6          wheel_base  0.574594\n",
       "7     engine_location       NaN\n",
       "8        drive_wheels  0.667972\n",
       "9          body_style -0.043263\n",
       "10             length  0.731624\n",
       "11              width  0.790317\n",
       "12             height  0.258053\n",
       "13        curb_weight  0.854573\n",
       "14        engine_type -0.049611\n",
       "15   num_of_cylinders  0.459095\n",
       "16        engine_size  0.750113\n",
       "17        fuel_system  0.591285\n",
       "18               bore  0.504435\n",
       "19             stroke  0.074076\n",
       "20  compression_ratio  0.191017\n",
       "21         horsepower  0.722010\n",
       "22           peak_rpm -0.139882\n",
       "23           city_mpg -0.670702\n",
       "24        highway_mpg -0.685855"
      ]
     },
     "execution_count": 98,
     "metadata": {},
     "output_type": "execute_result"
    }
   ],
   "source": [
    "feat_imp"
   ]
  },
  {
   "cell_type": "code",
   "execution_count": 99,
   "id": "d27c1035",
   "metadata": {},
   "outputs": [
    {
     "data": {
      "text/html": [
       "<div>\n",
       "<style scoped>\n",
       "    .dataframe tbody tr th:only-of-type {\n",
       "        vertical-align: middle;\n",
       "    }\n",
       "\n",
       "    .dataframe tbody tr th {\n",
       "        vertical-align: top;\n",
       "    }\n",
       "\n",
       "    .dataframe thead th {\n",
       "        text-align: right;\n",
       "    }\n",
       "</style>\n",
       "<table border=\"1\" class=\"dataframe\">\n",
       "  <thead>\n",
       "    <tr style=\"text-align: right;\">\n",
       "      <th></th>\n",
       "      <th>Features</th>\n",
       "      <th>Corr</th>\n",
       "    </tr>\n",
       "  </thead>\n",
       "  <tbody>\n",
       "    <tr>\n",
       "      <th>1</th>\n",
       "      <td>normalized_losses</td>\n",
       "      <td>0.210784</td>\n",
       "    </tr>\n",
       "    <tr>\n",
       "      <th>2</th>\n",
       "      <td>Fuel_type</td>\n",
       "      <td>-0.237381</td>\n",
       "    </tr>\n",
       "    <tr>\n",
       "      <th>3</th>\n",
       "      <td>make</td>\n",
       "      <td>0.416772</td>\n",
       "    </tr>\n",
       "    <tr>\n",
       "      <th>6</th>\n",
       "      <td>wheel_base</td>\n",
       "      <td>0.574594</td>\n",
       "    </tr>\n",
       "    <tr>\n",
       "      <th>8</th>\n",
       "      <td>drive_wheels</td>\n",
       "      <td>0.667972</td>\n",
       "    </tr>\n",
       "    <tr>\n",
       "      <th>10</th>\n",
       "      <td>length</td>\n",
       "      <td>0.731624</td>\n",
       "    </tr>\n",
       "    <tr>\n",
       "      <th>11</th>\n",
       "      <td>width</td>\n",
       "      <td>0.790317</td>\n",
       "    </tr>\n",
       "    <tr>\n",
       "      <th>12</th>\n",
       "      <td>height</td>\n",
       "      <td>0.258053</td>\n",
       "    </tr>\n",
       "    <tr>\n",
       "      <th>13</th>\n",
       "      <td>curb_weight</td>\n",
       "      <td>0.854573</td>\n",
       "    </tr>\n",
       "    <tr>\n",
       "      <th>15</th>\n",
       "      <td>num_of_cylinders</td>\n",
       "      <td>0.459095</td>\n",
       "    </tr>\n",
       "    <tr>\n",
       "      <th>16</th>\n",
       "      <td>engine_size</td>\n",
       "      <td>0.750113</td>\n",
       "    </tr>\n",
       "    <tr>\n",
       "      <th>17</th>\n",
       "      <td>fuel_system</td>\n",
       "      <td>0.591285</td>\n",
       "    </tr>\n",
       "    <tr>\n",
       "      <th>18</th>\n",
       "      <td>bore</td>\n",
       "      <td>0.504435</td>\n",
       "    </tr>\n",
       "    <tr>\n",
       "      <th>21</th>\n",
       "      <td>horsepower</td>\n",
       "      <td>0.722010</td>\n",
       "    </tr>\n",
       "    <tr>\n",
       "      <th>23</th>\n",
       "      <td>city_mpg</td>\n",
       "      <td>-0.670702</td>\n",
       "    </tr>\n",
       "    <tr>\n",
       "      <th>24</th>\n",
       "      <td>highway_mpg</td>\n",
       "      <td>-0.685855</td>\n",
       "    </tr>\n",
       "  </tbody>\n",
       "</table>\n",
       "</div>"
      ],
      "text/plain": [
       "             Features      Corr\n",
       "1   normalized_losses  0.210784\n",
       "2           Fuel_type -0.237381\n",
       "3                make  0.416772\n",
       "6          wheel_base  0.574594\n",
       "8        drive_wheels  0.667972\n",
       "10             length  0.731624\n",
       "11              width  0.790317\n",
       "12             height  0.258053\n",
       "13        curb_weight  0.854573\n",
       "15   num_of_cylinders  0.459095\n",
       "16        engine_size  0.750113\n",
       "17        fuel_system  0.591285\n",
       "18               bore  0.504435\n",
       "21         horsepower  0.722010\n",
       "23           city_mpg -0.670702\n",
       "24        highway_mpg -0.685855"
      ]
     },
     "execution_count": 99,
     "metadata": {},
     "output_type": "execute_result"
    }
   ],
   "source": [
    "feat_imp[(feat_imp.Corr>0.2) | (feat_imp.Corr<-0.2)]"
   ]
  },
  {
   "cell_type": "code",
   "execution_count": 100,
   "id": "64e146cd",
   "metadata": {},
   "outputs": [
    {
     "data": {
      "text/plain": [
       "['normalized_losses',\n",
       " 'Fuel_type',\n",
       " 'make',\n",
       " 'wheel_base',\n",
       " 'drive_wheels',\n",
       " 'length',\n",
       " 'width',\n",
       " 'height',\n",
       " 'curb_weight',\n",
       " 'num_of_cylinders',\n",
       " 'engine_size',\n",
       " 'fuel_system',\n",
       " 'bore',\n",
       " 'horsepower',\n",
       " 'city_mpg',\n",
       " 'highway_mpg']"
      ]
     },
     "execution_count": 100,
     "metadata": {},
     "output_type": "execute_result"
    }
   ],
   "source": [
    "l1=list(feat_imp[(feat_imp.Corr>0.2) | (feat_imp.Corr<-0.2)].Features)\n",
    "l1"
   ]
  },
  {
   "cell_type": "code",
   "execution_count": 101,
   "id": "b975efb3",
   "metadata": {},
   "outputs": [],
   "source": [
    "l1.append('price')"
   ]
  },
  {
   "cell_type": "code",
   "execution_count": 102,
   "id": "9c482232",
   "metadata": {},
   "outputs": [
    {
     "data": {
      "text/plain": [
       "['normalized_losses',\n",
       " 'Fuel_type',\n",
       " 'make',\n",
       " 'wheel_base',\n",
       " 'drive_wheels',\n",
       " 'length',\n",
       " 'width',\n",
       " 'height',\n",
       " 'curb_weight',\n",
       " 'num_of_cylinders',\n",
       " 'engine_size',\n",
       " 'fuel_system',\n",
       " 'bore',\n",
       " 'horsepower',\n",
       " 'city_mpg',\n",
       " 'highway_mpg',\n",
       " 'price']"
      ]
     },
     "execution_count": 102,
     "metadata": {},
     "output_type": "execute_result"
    }
   ],
   "source": [
    "l1"
   ]
  },
  {
   "cell_type": "code",
   "execution_count": 104,
   "id": "accecbe2",
   "metadata": {},
   "outputs": [],
   "source": [
    "df=df.loc[:,l1]"
   ]
  },
  {
   "cell_type": "code",
   "execution_count": 105,
   "id": "2cfdf28e",
   "metadata": {},
   "outputs": [
    {
     "data": {
      "text/html": [
       "<div>\n",
       "<style scoped>\n",
       "    .dataframe tbody tr th:only-of-type {\n",
       "        vertical-align: middle;\n",
       "    }\n",
       "\n",
       "    .dataframe tbody tr th {\n",
       "        vertical-align: top;\n",
       "    }\n",
       "\n",
       "    .dataframe thead th {\n",
       "        text-align: right;\n",
       "    }\n",
       "</style>\n",
       "<table border=\"1\" class=\"dataframe\">\n",
       "  <thead>\n",
       "    <tr style=\"text-align: right;\">\n",
       "      <th></th>\n",
       "      <th>normalized_losses</th>\n",
       "      <th>Fuel_type</th>\n",
       "      <th>make</th>\n",
       "      <th>wheel_base</th>\n",
       "      <th>drive_wheels</th>\n",
       "      <th>length</th>\n",
       "      <th>width</th>\n",
       "      <th>height</th>\n",
       "      <th>curb_weight</th>\n",
       "      <th>num_of_cylinders</th>\n",
       "      <th>engine_size</th>\n",
       "      <th>fuel_system</th>\n",
       "      <th>bore</th>\n",
       "      <th>horsepower</th>\n",
       "      <th>city_mpg</th>\n",
       "      <th>highway_mpg</th>\n",
       "      <th>price</th>\n",
       "    </tr>\n",
       "  </thead>\n",
       "  <tbody>\n",
       "    <tr>\n",
       "      <th>0</th>\n",
       "      <td>122.0</td>\n",
       "      <td>1</td>\n",
       "      <td>0.0</td>\n",
       "      <td>2.0</td>\n",
       "      <td>88.6</td>\n",
       "      <td>168.8</td>\n",
       "      <td>64.1</td>\n",
       "      <td>48.8</td>\n",
       "      <td>2548</td>\n",
       "      <td>4</td>\n",
       "      <td>130</td>\n",
       "      <td>5.0</td>\n",
       "      <td>3.47</td>\n",
       "      <td>111.0</td>\n",
       "      <td>21</td>\n",
       "      <td>27</td>\n",
       "      <td>13495.0</td>\n",
       "    </tr>\n",
       "    <tr>\n",
       "      <th>1</th>\n",
       "      <td>122.0</td>\n",
       "      <td>1</td>\n",
       "      <td>0.0</td>\n",
       "      <td>2.0</td>\n",
       "      <td>88.6</td>\n",
       "      <td>168.8</td>\n",
       "      <td>64.1</td>\n",
       "      <td>48.8</td>\n",
       "      <td>2548</td>\n",
       "      <td>4</td>\n",
       "      <td>130</td>\n",
       "      <td>5.0</td>\n",
       "      <td>3.47</td>\n",
       "      <td>111.0</td>\n",
       "      <td>21</td>\n",
       "      <td>27</td>\n",
       "      <td>16500.0</td>\n",
       "    </tr>\n",
       "    <tr>\n",
       "      <th>2</th>\n",
       "      <td>122.0</td>\n",
       "      <td>1</td>\n",
       "      <td>0.0</td>\n",
       "      <td>2.0</td>\n",
       "      <td>94.5</td>\n",
       "      <td>171.2</td>\n",
       "      <td>65.5</td>\n",
       "      <td>52.4</td>\n",
       "      <td>2823</td>\n",
       "      <td>6</td>\n",
       "      <td>152</td>\n",
       "      <td>5.0</td>\n",
       "      <td>2.68</td>\n",
       "      <td>154.0</td>\n",
       "      <td>19</td>\n",
       "      <td>26</td>\n",
       "      <td>16500.0</td>\n",
       "    </tr>\n",
       "    <tr>\n",
       "      <th>3</th>\n",
       "      <td>164.0</td>\n",
       "      <td>1</td>\n",
       "      <td>0.0</td>\n",
       "      <td>1.0</td>\n",
       "      <td>99.8</td>\n",
       "      <td>176.6</td>\n",
       "      <td>66.2</td>\n",
       "      <td>54.3</td>\n",
       "      <td>2337</td>\n",
       "      <td>4</td>\n",
       "      <td>109</td>\n",
       "      <td>5.0</td>\n",
       "      <td>3.19</td>\n",
       "      <td>102.0</td>\n",
       "      <td>24</td>\n",
       "      <td>30</td>\n",
       "      <td>13950.0</td>\n",
       "    </tr>\n",
       "    <tr>\n",
       "      <th>4</th>\n",
       "      <td>164.0</td>\n",
       "      <td>1</td>\n",
       "      <td>0.0</td>\n",
       "      <td>0.0</td>\n",
       "      <td>99.4</td>\n",
       "      <td>176.6</td>\n",
       "      <td>66.4</td>\n",
       "      <td>54.3</td>\n",
       "      <td>2824</td>\n",
       "      <td>5</td>\n",
       "      <td>136</td>\n",
       "      <td>5.0</td>\n",
       "      <td>3.19</td>\n",
       "      <td>115.0</td>\n",
       "      <td>18</td>\n",
       "      <td>22</td>\n",
       "      <td>17450.0</td>\n",
       "    </tr>\n",
       "    <tr>\n",
       "      <th>...</th>\n",
       "      <td>...</td>\n",
       "      <td>...</td>\n",
       "      <td>...</td>\n",
       "      <td>...</td>\n",
       "      <td>...</td>\n",
       "      <td>...</td>\n",
       "      <td>...</td>\n",
       "      <td>...</td>\n",
       "      <td>...</td>\n",
       "      <td>...</td>\n",
       "      <td>...</td>\n",
       "      <td>...</td>\n",
       "      <td>...</td>\n",
       "      <td>...</td>\n",
       "      <td>...</td>\n",
       "      <td>...</td>\n",
       "      <td>...</td>\n",
       "    </tr>\n",
       "    <tr>\n",
       "      <th>200</th>\n",
       "      <td>95.0</td>\n",
       "      <td>1</td>\n",
       "      <td>0.0</td>\n",
       "      <td>2.0</td>\n",
       "      <td>109.1</td>\n",
       "      <td>188.8</td>\n",
       "      <td>68.9</td>\n",
       "      <td>55.5</td>\n",
       "      <td>2952</td>\n",
       "      <td>4</td>\n",
       "      <td>141</td>\n",
       "      <td>5.0</td>\n",
       "      <td>3.78</td>\n",
       "      <td>114.0</td>\n",
       "      <td>23</td>\n",
       "      <td>28</td>\n",
       "      <td>16845.0</td>\n",
       "    </tr>\n",
       "    <tr>\n",
       "      <th>201</th>\n",
       "      <td>95.0</td>\n",
       "      <td>1</td>\n",
       "      <td>1.0</td>\n",
       "      <td>2.0</td>\n",
       "      <td>109.1</td>\n",
       "      <td>188.8</td>\n",
       "      <td>68.8</td>\n",
       "      <td>55.5</td>\n",
       "      <td>3049</td>\n",
       "      <td>4</td>\n",
       "      <td>141</td>\n",
       "      <td>5.0</td>\n",
       "      <td>3.78</td>\n",
       "      <td>160.0</td>\n",
       "      <td>19</td>\n",
       "      <td>25</td>\n",
       "      <td>19045.0</td>\n",
       "    </tr>\n",
       "    <tr>\n",
       "      <th>202</th>\n",
       "      <td>95.0</td>\n",
       "      <td>1</td>\n",
       "      <td>0.0</td>\n",
       "      <td>2.0</td>\n",
       "      <td>109.1</td>\n",
       "      <td>188.8</td>\n",
       "      <td>68.9</td>\n",
       "      <td>55.5</td>\n",
       "      <td>3012</td>\n",
       "      <td>6</td>\n",
       "      <td>173</td>\n",
       "      <td>5.0</td>\n",
       "      <td>3.58</td>\n",
       "      <td>134.0</td>\n",
       "      <td>18</td>\n",
       "      <td>23</td>\n",
       "      <td>21485.0</td>\n",
       "    </tr>\n",
       "    <tr>\n",
       "      <th>203</th>\n",
       "      <td>95.0</td>\n",
       "      <td>0</td>\n",
       "      <td>1.0</td>\n",
       "      <td>2.0</td>\n",
       "      <td>109.1</td>\n",
       "      <td>188.8</td>\n",
       "      <td>68.9</td>\n",
       "      <td>55.5</td>\n",
       "      <td>3217</td>\n",
       "      <td>6</td>\n",
       "      <td>145</td>\n",
       "      <td>3.0</td>\n",
       "      <td>3.01</td>\n",
       "      <td>106.0</td>\n",
       "      <td>26</td>\n",
       "      <td>27</td>\n",
       "      <td>22470.0</td>\n",
       "    </tr>\n",
       "    <tr>\n",
       "      <th>204</th>\n",
       "      <td>95.0</td>\n",
       "      <td>1</td>\n",
       "      <td>1.0</td>\n",
       "      <td>2.0</td>\n",
       "      <td>109.1</td>\n",
       "      <td>188.8</td>\n",
       "      <td>68.9</td>\n",
       "      <td>55.5</td>\n",
       "      <td>3062</td>\n",
       "      <td>4</td>\n",
       "      <td>141</td>\n",
       "      <td>5.0</td>\n",
       "      <td>3.78</td>\n",
       "      <td>114.0</td>\n",
       "      <td>19</td>\n",
       "      <td>25</td>\n",
       "      <td>22625.0</td>\n",
       "    </tr>\n",
       "  </tbody>\n",
       "</table>\n",
       "<p>187 rows × 17 columns</p>\n",
       "</div>"
      ],
      "text/plain": [
       "     normalized_losses  Fuel_type  make  wheel_base  drive_wheels  length  \\\n",
       "0                122.0          1   0.0         2.0          88.6   168.8   \n",
       "1                122.0          1   0.0         2.0          88.6   168.8   \n",
       "2                122.0          1   0.0         2.0          94.5   171.2   \n",
       "3                164.0          1   0.0         1.0          99.8   176.6   \n",
       "4                164.0          1   0.0         0.0          99.4   176.6   \n",
       "..                 ...        ...   ...         ...           ...     ...   \n",
       "200               95.0          1   0.0         2.0         109.1   188.8   \n",
       "201               95.0          1   1.0         2.0         109.1   188.8   \n",
       "202               95.0          1   0.0         2.0         109.1   188.8   \n",
       "203               95.0          0   1.0         2.0         109.1   188.8   \n",
       "204               95.0          1   1.0         2.0         109.1   188.8   \n",
       "\n",
       "     width  height  curb_weight  num_of_cylinders  engine_size  fuel_system  \\\n",
       "0     64.1    48.8         2548                 4          130          5.0   \n",
       "1     64.1    48.8         2548                 4          130          5.0   \n",
       "2     65.5    52.4         2823                 6          152          5.0   \n",
       "3     66.2    54.3         2337                 4          109          5.0   \n",
       "4     66.4    54.3         2824                 5          136          5.0   \n",
       "..     ...     ...          ...               ...          ...          ...   \n",
       "200   68.9    55.5         2952                 4          141          5.0   \n",
       "201   68.8    55.5         3049                 4          141          5.0   \n",
       "202   68.9    55.5         3012                 6          173          5.0   \n",
       "203   68.9    55.5         3217                 6          145          3.0   \n",
       "204   68.9    55.5         3062                 4          141          5.0   \n",
       "\n",
       "     bore  horsepower  city_mpg  highway_mpg    price  \n",
       "0    3.47       111.0        21           27  13495.0  \n",
       "1    3.47       111.0        21           27  16500.0  \n",
       "2    2.68       154.0        19           26  16500.0  \n",
       "3    3.19       102.0        24           30  13950.0  \n",
       "4    3.19       115.0        18           22  17450.0  \n",
       "..    ...         ...       ...          ...      ...  \n",
       "200  3.78       114.0        23           28  16845.0  \n",
       "201  3.78       160.0        19           25  19045.0  \n",
       "202  3.58       134.0        18           23  21485.0  \n",
       "203  3.01       106.0        26           27  22470.0  \n",
       "204  3.78       114.0        19           25  22625.0  \n",
       "\n",
       "[187 rows x 17 columns]"
      ]
     },
     "execution_count": 105,
     "metadata": {},
     "output_type": "execute_result"
    }
   ],
   "source": [
    "df"
   ]
  },
  {
   "cell_type": "code",
   "execution_count": 59,
   "id": "9bc074c8",
   "metadata": {},
   "outputs": [],
   "source": [
    "df=df1"
   ]
  },
  {
   "cell_type": "code",
   "execution_count": 60,
   "id": "ce223d2e",
   "metadata": {},
   "outputs": [],
   "source": [
    "from sklearn.model_selection import train_test_split\n",
    "df_train, df_test=train_test_split(df,test_size=.2)"
   ]
  },
  {
   "cell_type": "code",
   "execution_count": 61,
   "id": "f9b33794",
   "metadata": {},
   "outputs": [],
   "source": [
    "train_df_x = df_train.iloc[:,0:-1]# select all x variables\n",
    "train_df_y = df_train.iloc[:,-1]"
   ]
  },
  {
   "cell_type": "code",
   "execution_count": 62,
   "id": "64872e18",
   "metadata": {},
   "outputs": [],
   "source": [
    "test_df_x = df_test.iloc[:,0:-1]# select all x variables\n",
    "test_df_y = df_test.iloc[:,-1]"
   ]
  },
  {
   "cell_type": "code",
   "execution_count": 63,
   "id": "83657e8b",
   "metadata": {},
   "outputs": [
    {
     "data": {
      "text/html": [
       "<style>#sk-container-id-2 {color: black;background-color: white;}#sk-container-id-2 pre{padding: 0;}#sk-container-id-2 div.sk-toggleable {background-color: white;}#sk-container-id-2 label.sk-toggleable__label {cursor: pointer;display: block;width: 100%;margin-bottom: 0;padding: 0.3em;box-sizing: border-box;text-align: center;}#sk-container-id-2 label.sk-toggleable__label-arrow:before {content: \"▸\";float: left;margin-right: 0.25em;color: #696969;}#sk-container-id-2 label.sk-toggleable__label-arrow:hover:before {color: black;}#sk-container-id-2 div.sk-estimator:hover label.sk-toggleable__label-arrow:before {color: black;}#sk-container-id-2 div.sk-toggleable__content {max-height: 0;max-width: 0;overflow: hidden;text-align: left;background-color: #f0f8ff;}#sk-container-id-2 div.sk-toggleable__content pre {margin: 0.2em;color: black;border-radius: 0.25em;background-color: #f0f8ff;}#sk-container-id-2 input.sk-toggleable__control:checked~div.sk-toggleable__content {max-height: 200px;max-width: 100%;overflow: auto;}#sk-container-id-2 input.sk-toggleable__control:checked~label.sk-toggleable__label-arrow:before {content: \"▾\";}#sk-container-id-2 div.sk-estimator input.sk-toggleable__control:checked~label.sk-toggleable__label {background-color: #d4ebff;}#sk-container-id-2 div.sk-label input.sk-toggleable__control:checked~label.sk-toggleable__label {background-color: #d4ebff;}#sk-container-id-2 input.sk-hidden--visually {border: 0;clip: rect(1px 1px 1px 1px);clip: rect(1px, 1px, 1px, 1px);height: 1px;margin: -1px;overflow: hidden;padding: 0;position: absolute;width: 1px;}#sk-container-id-2 div.sk-estimator {font-family: monospace;background-color: #f0f8ff;border: 1px dotted black;border-radius: 0.25em;box-sizing: border-box;margin-bottom: 0.5em;}#sk-container-id-2 div.sk-estimator:hover {background-color: #d4ebff;}#sk-container-id-2 div.sk-parallel-item::after {content: \"\";width: 100%;border-bottom: 1px solid gray;flex-grow: 1;}#sk-container-id-2 div.sk-label:hover label.sk-toggleable__label {background-color: #d4ebff;}#sk-container-id-2 div.sk-serial::before {content: \"\";position: absolute;border-left: 1px solid gray;box-sizing: border-box;top: 0;bottom: 0;left: 50%;z-index: 0;}#sk-container-id-2 div.sk-serial {display: flex;flex-direction: column;align-items: center;background-color: white;padding-right: 0.2em;padding-left: 0.2em;position: relative;}#sk-container-id-2 div.sk-item {position: relative;z-index: 1;}#sk-container-id-2 div.sk-parallel {display: flex;align-items: stretch;justify-content: center;background-color: white;position: relative;}#sk-container-id-2 div.sk-item::before, #sk-container-id-2 div.sk-parallel-item::before {content: \"\";position: absolute;border-left: 1px solid gray;box-sizing: border-box;top: 0;bottom: 0;left: 50%;z-index: -1;}#sk-container-id-2 div.sk-parallel-item {display: flex;flex-direction: column;z-index: 1;position: relative;background-color: white;}#sk-container-id-2 div.sk-parallel-item:first-child::after {align-self: flex-end;width: 50%;}#sk-container-id-2 div.sk-parallel-item:last-child::after {align-self: flex-start;width: 50%;}#sk-container-id-2 div.sk-parallel-item:only-child::after {width: 0;}#sk-container-id-2 div.sk-dashed-wrapped {border: 1px dashed gray;margin: 0 0.4em 0.5em 0.4em;box-sizing: border-box;padding-bottom: 0.4em;background-color: white;}#sk-container-id-2 div.sk-label label {font-family: monospace;font-weight: bold;display: inline-block;line-height: 1.2em;}#sk-container-id-2 div.sk-label-container {text-align: center;}#sk-container-id-2 div.sk-container {/* jupyter's `normalize.less` sets `[hidden] { display: none; }` but bootstrap.min.css set `[hidden] { display: none !important; }` so we also need the `!important` here to be able to override the default hidden behavior on the sphinx rendered scikit-learn.org. See: https://github.com/scikit-learn/scikit-learn/issues/21755 */display: inline-block !important;position: relative;}#sk-container-id-2 div.sk-text-repr-fallback {display: none;}</style><div id=\"sk-container-id-2\" class=\"sk-top-container\"><div class=\"sk-text-repr-fallback\"><pre>LinearRegression()</pre><b>In a Jupyter environment, please rerun this cell to show the HTML representation or trust the notebook. <br />On GitHub, the HTML representation is unable to render, please try loading this page with nbviewer.org.</b></div><div class=\"sk-container\" hidden><div class=\"sk-item\"><div class=\"sk-estimator sk-toggleable\"><input class=\"sk-toggleable__control sk-hidden--visually\" id=\"sk-estimator-id-2\" type=\"checkbox\" checked><label for=\"sk-estimator-id-2\" class=\"sk-toggleable__label sk-toggleable__label-arrow\">LinearRegression</label><div class=\"sk-toggleable__content\"><pre>LinearRegression()</pre></div></div></div></div></div>"
      ],
      "text/plain": [
       "LinearRegression()"
      ]
     },
     "execution_count": 63,
     "metadata": {},
     "output_type": "execute_result"
    }
   ],
   "source": [
    "from sklearn.linear_model import LinearRegression\n",
    "linreg=LinearRegression()\n",
    "linreg.fit(train_df_x,train_df_y)"
   ]
  },
  {
   "cell_type": "code",
   "execution_count": 64,
   "id": "62141ea6",
   "metadata": {},
   "outputs": [],
   "source": [
    "Rsquare=linreg.score(train_df_x,train_df_y)"
   ]
  },
  {
   "cell_type": "code",
   "execution_count": 65,
   "id": "88b4cbd7",
   "metadata": {},
   "outputs": [
    {
     "data": {
      "text/plain": [
       "0.8631491512539553"
      ]
     },
     "execution_count": 65,
     "metadata": {},
     "output_type": "execute_result"
    }
   ],
   "source": [
    "Rsquare"
   ]
  },
  {
   "cell_type": "code",
   "execution_count": 66,
   "id": "8f78cdfa",
   "metadata": {},
   "outputs": [],
   "source": [
    "N=train_df_x.shape[0]\n",
    "K=train_df_x.shape[1]\n",
    "Adj_Rsqu=1-(1-Rsquare)*(N-1)/(N-K-1)"
   ]
  },
  {
   "cell_type": "code",
   "execution_count": 67,
   "id": "b89d55de",
   "metadata": {},
   "outputs": [
    {
     "data": {
      "text/plain": [
       "0.8353339380941901"
      ]
     },
     "execution_count": 67,
     "metadata": {},
     "output_type": "execute_result"
    }
   ],
   "source": [
    "Adj_Rsqu"
   ]
  },
  {
   "cell_type": "code",
   "execution_count": null,
   "id": "b3575bcc",
   "metadata": {},
   "outputs": [],
   "source": []
  },
  {
   "cell_type": "code",
   "execution_count": 68,
   "id": "20ee588d",
   "metadata": {},
   "outputs": [],
   "source": [
    "pred_train=linreg.predict(train_df_x)\n",
    "pred_test=linreg.predict(test_df_x)"
   ]
  },
  {
   "cell_type": "code",
   "execution_count": 69,
   "id": "e2ca3261",
   "metadata": {},
   "outputs": [
    {
     "data": {
      "text/plain": [
       "array([14412.13904324, 10427.71154495, 11359.58121835, 17576.81616736,\n",
       "       17412.73634458,  7771.91231902,  4664.50848782,  8375.35973436,\n",
       "       13591.61208192,  9373.85374863, 12609.44004736,  8111.14495115,\n",
       "        7521.01578848,  6151.37612572, 10394.66078272,  7328.67720613,\n",
       "        7398.90024991, 13702.19779944,  6408.6384905 , 13328.3099631 ,\n",
       "        8893.91572795, 17380.5595989 ,  8871.19345692,  9139.9616678 ,\n",
       "        9418.02211565, 18098.46502863,  5734.06697848, 12133.45123309,\n",
       "       14634.732381  ,  6056.96902589, 11275.76321488,  9785.31833484,\n",
       "       18639.87051168,  6590.54179303, 19302.70340167,  6018.07641432,\n",
       "       14558.56565822,  6699.17748924,  6006.15971397,  8386.99762379,\n",
       "        6170.28788533,  7306.7471903 , 11409.38864975, 18832.06029266,\n",
       "       19822.38989608, 16390.1678377 ,  9007.30052647, 11571.03437715,\n",
       "       14443.00947482,  9263.1296203 , 19018.2840818 , 12576.83471373,\n",
       "       10824.34225235,  8558.74562719,  9849.58517681, 13013.1814194 ,\n",
       "        4376.53166626,  6830.07682156, 15125.23690195, 22396.69470952,\n",
       "       17397.19410224, 11099.11269193,  8071.59158737,  9849.58517681,\n",
       "       14403.83385539,  7825.26664949, 15576.98857974, 10057.71204873,\n",
       "        7825.26664949,  8428.52893777,  8102.98645609, 17368.6217906 ,\n",
       "        8342.6065426 , 10605.21969228, 14324.77236151, 14161.39613171,\n",
       "       10508.62481773, 16747.51145502, 17518.45695199,  9910.67877501,\n",
       "        6807.28823303,  3835.58794074, 12884.46288532,  6253.68945089,\n",
       "        6712.28769453,  6733.40263915, 12101.66738655,  7757.62460223,\n",
       "       18160.30051591, 16593.27867938,  7067.06285108, 18098.46502863,\n",
       "        7326.19366033, 10605.21969228, 17431.40619831,  8923.85687632,\n",
       "        6726.42089114, 14465.30933621,  6976.96432864, 11572.05031061,\n",
       "        9735.34404766, 11195.52054213,  9049.66646753,  7078.22768825,\n",
       "       10303.20601994,  7012.72154694,  7234.59000222, 13499.06983725,\n",
       "       14536.22543201,  7509.62347001, 18462.23242576,  8806.92311639,\n",
       "       14588.79589357,  6647.09081347,  9264.01325223,  8646.36282038,\n",
       "       15125.23690195, 16530.19051015, 16211.11988975,  6264.57991407,\n",
       "       12156.93705162,  6352.15733239, 14779.36149166, 17576.2420502 ,\n",
       "       17686.69532276,  7705.14057137,  7154.97387442,  9034.70213045,\n",
       "       18873.25150244, 12299.87550679,  8843.25088265,  6258.80489449,\n",
       "        7749.12422405, 15908.24887987,  7611.45062447, 17282.79754802,\n",
       "       17839.22115642, 15276.93981233,  6531.09585701, 11099.11269193,\n",
       "        7537.29287466,  6515.66765447, 13794.54338655,  5729.43354266,\n",
       "       18213.22838683,  8403.89135689, 18105.12273693, 17022.68302057,\n",
       "        8634.38600291])"
      ]
     },
     "execution_count": 69,
     "metadata": {},
     "output_type": "execute_result"
    }
   ],
   "source": [
    "pred_train"
   ]
  },
  {
   "cell_type": "code",
   "execution_count": 70,
   "id": "c65f197d",
   "metadata": {},
   "outputs": [],
   "source": [
    "act_pred=pd.DataFrame()\n",
    "act_pred['Actual']=train_df_y \n",
    "act_pred['Pred']=pred_train"
   ]
  },
  {
   "cell_type": "code",
   "execution_count": 71,
   "id": "34df1c79",
   "metadata": {},
   "outputs": [],
   "source": [
    "act_pred_test=pd.DataFrame()\n",
    "act_pred_test['Actual']=test_df_y \n",
    "act_pred_test['Pred']=pred_test"
   ]
  },
  {
   "cell_type": "code",
   "execution_count": 72,
   "id": "fb98304d",
   "metadata": {},
   "outputs": [],
   "source": [
    "from sklearn.metrics import mean_absolute_percentage_error,mean_absolute_error ,mean_squared_error"
   ]
  },
  {
   "cell_type": "code",
   "execution_count": 73,
   "id": "be61a5e2",
   "metadata": {},
   "outputs": [
    {
     "data": {
      "text/plain": [
       "2935383.2776650805"
      ]
     },
     "execution_count": 73,
     "metadata": {},
     "output_type": "execute_result"
    }
   ],
   "source": [
    "mean_squared_error(act_pred['Actual'],act_pred['Pred'])"
   ]
  },
  {
   "cell_type": "code",
   "execution_count": 74,
   "id": "6e090293",
   "metadata": {},
   "outputs": [
    {
     "data": {
      "text/plain": [
       "1326.8816229113813"
      ]
     },
     "execution_count": 74,
     "metadata": {},
     "output_type": "execute_result"
    }
   ],
   "source": [
    "mean_absolute_error(act_pred['Actual'],act_pred['Pred'])"
   ]
  },
  {
   "cell_type": "code",
   "execution_count": 75,
   "id": "04aa36d4",
   "metadata": {},
   "outputs": [
    {
     "data": {
      "text/plain": [
       "12.37238483100759"
      ]
     },
     "execution_count": 75,
     "metadata": {},
     "output_type": "execute_result"
    }
   ],
   "source": [
    "mean_absolute_percentage_error(act_pred['Actual'],act_pred['Pred'])*100"
   ]
  },
  {
   "cell_type": "code",
   "execution_count": 76,
   "id": "6d9d5d2f",
   "metadata": {},
   "outputs": [],
   "source": [
    "error_train=train_df_y-pred_train\n"
   ]
  },
  {
   "cell_type": "code",
   "execution_count": 77,
   "id": "e90e8cfe",
   "metadata": {},
   "outputs": [
    {
     "data": {
      "text/plain": [
       "-1.1768495201464467e-11"
      ]
     },
     "execution_count": 77,
     "metadata": {},
     "output_type": "execute_result"
    }
   ],
   "source": [
    "error_train.mean()"
   ]
  },
  {
   "cell_type": "code",
   "execution_count": 78,
   "id": "b65458ca",
   "metadata": {},
   "outputs": [],
   "source": [
    "error_test=test_df_y-pred_test\n"
   ]
  },
  {
   "cell_type": "code",
   "execution_count": 79,
   "id": "3499b78a",
   "metadata": {},
   "outputs": [
    {
     "data": {
      "text/plain": [
       "500.0863461293204"
      ]
     },
     "execution_count": 79,
     "metadata": {},
     "output_type": "execute_result"
    }
   ],
   "source": [
    "error_test.mean()"
   ]
  },
  {
   "cell_type": "code",
   "execution_count": 80,
   "id": "8ae909e9",
   "metadata": {},
   "outputs": [
    {
     "name": "stdout",
     "output_type": "stream",
     "text": [
      "mse_train is 2935383.2776650805\n",
      "mse_test is 6811876.996088657\n"
     ]
    }
   ],
   "source": [
    "mse_train=np.mean(np.square(error_train))\n",
    "mse_test=np.mean(np.square(error_test))\n",
    "print('mse_train is',mse_train)\n",
    "print('mse_test is',mse_test)"
   ]
  },
  {
   "cell_type": "code",
   "execution_count": 81,
   "id": "02206e39",
   "metadata": {},
   "outputs": [
    {
     "name": "stdout",
     "output_type": "stream",
     "text": [
      "rmse_train 1713.2960274468276\n",
      "rmse_test 2609.9572785945475\n"
     ]
    }
   ],
   "source": [
    "rmse_train=np.sqrt(mse_train)\n",
    "rmse_test=np.sqrt(mse_test)\n",
    "print('rmse_train',rmse_train)\n",
    "print('rmse_test',rmse_test)"
   ]
  },
  {
   "cell_type": "code",
   "execution_count": 82,
   "id": "0442c2a2",
   "metadata": {},
   "outputs": [
    {
     "name": "stdout",
     "output_type": "stream",
     "text": [
      "Mape of  train is 12.372384831007592\n",
      "Mape of  test is 13.797782699624136\n"
     ]
    }
   ],
   "source": [
    "mape_train=np.mean(np.abs(error_train*100/act_pred['Actual']))\n",
    "mape_test=np.mean(np.abs(error_test*100/act_pred_test['Actual']))\n",
    "print('Mape of  train is',mape_train)\n",
    "print('Mape of  test is',mape_test)"
   ]
  },
  {
   "cell_type": "code",
   "execution_count": 83,
   "id": "2fe3b4ee",
   "metadata": {},
   "outputs": [
    {
     "data": {
      "text/plain": [
       "12.372384831007592"
      ]
     },
     "execution_count": 83,
     "metadata": {},
     "output_type": "execute_result"
    }
   ],
   "source": [
    "mape_train"
   ]
  },
  {
   "cell_type": "code",
   "execution_count": 84,
   "id": "a360c971",
   "metadata": {},
   "outputs": [
    {
     "data": {
      "text/plain": [
       "13.797782699624136"
      ]
     },
     "execution_count": 84,
     "metadata": {},
     "output_type": "execute_result"
    }
   ],
   "source": [
    "mape_test"
   ]
  },
  {
   "cell_type": "code",
   "execution_count": 85,
   "id": "70a0154d",
   "metadata": {},
   "outputs": [],
   "source": [
    "import matplotlib.pyplot as plt\n",
    "import seaborn as sns"
   ]
  },
  {
   "cell_type": "code",
   "execution_count": 86,
   "id": "e522f5e0",
   "metadata": {},
   "outputs": [
    {
     "data": {
      "image/png": "[encoded data removed]",
      "text/plain": [
       "<Figure size 640x480 with 1 Axes>"
      ]
     },
     "metadata": {},
     "output_type": "display_data"
    }
   ],
   "source": [
    "plt.hist(error_train,bins=10,edgecolor='red');"
   ]
  },
  {
   "cell_type": "code",
   "execution_count": 87,
   "id": "2b429312",
   "metadata": {},
   "outputs": [
    {
     "data": {
      "text/plain": [
       "<Axes: xlabel='Actual', ylabel='Pred'>"
      ]
     },
     "execution_count": 87,
     "metadata": {},
     "output_type": "execute_result"
    },
    {
     "data": {
      "image/png": "[encoded data removed]",
      "text/plain": [
       "<Figure size 640x480 with 1 Axes>"
      ]
     },
     "metadata": {},
     "output_type": "display_data"
    }
   ],
   "source": [
    "sns.regplot(x='Actual',y='Pred',data=act_pred)"
   ]
  },
  {
   "cell_type": "code",
   "execution_count": 88,
   "id": "d13b0707",
   "metadata": {},
   "outputs": [
    {
     "data": {
      "text/plain": [
       "<matplotlib.lines.Line2D at 0x13bba6086d0>"
      ]
     },
     "execution_count": 88,
     "metadata": {},
     "output_type": "execute_result"
    },
    {
     "data": {
      "image/png": "[encoded data removed]",
      "text/plain": [
       "<Figure size 640x480 with 1 Axes>"
      ]
     },
     "metadata": {},
     "output_type": "display_data"
    }
   ],
   "source": [
    "plt.plot(error_train,'*')\n",
    "plt.axhline(y=0,color='red')"
   ]
  },
  {
   "cell_type": "code",
   "execution_count": 57,
   "id": "111d0d37",
   "metadata": {},
   "outputs": [],
   "source": [
    "def remove_outliers(df,col,k):\n",
    "    mean=df[col].mean()\n",
    "    global df1\n",
    "    sd = df[col].std()\n",
    "    final_list=[x for x in df[col] if (x>mean-k*sd)]\n",
    "    final_list=[x for x in final_list if (x<mean+k*sd)]\n",
    "    df1=df.loc[df[col].isin(final_list)]; print(df1.shape)\n",
    "    print(\"Number of outliers removed-->\",df.shape[0]-df1.shape[0])"
   ]
  },
  {
   "cell_type": "code",
   "execution_count": 58,
   "id": "45c05eea",
   "metadata": {},
   "outputs": [
    {
     "name": "stdout",
     "output_type": "stream",
     "text": [
      "(187, 26)\n",
      "Number of outliers removed--> 14\n"
     ]
    }
   ],
   "source": [
    "remove_outliers(df,'price',2)"
   ]
  },
  {
   "cell_type": "code",
   "execution_count": null,
   "id": "d3cb4b1d",
   "metadata": {},
   "outputs": [],
   "source": []
  },
  {
   "cell_type": "code",
   "execution_count": null,
   "id": "83bee5dd",
   "metadata": {},
   "outputs": [],
   "source": []
  },
  {
   "cell_type": "code",
   "execution_count": null,
   "id": "c2e7ace8",
   "metadata": {},
   "outputs": [],
   "source": []
  }
 ],
 "metadata": {
  "kernelspec": {
   "display_name": "Python 3 (ipykernel)",
   "language": "python",
   "name": "python3"
  },
  "language_info": {
   "codemirror_mode": {
    "name": "ipython",
    "version": 3
   },
   "file_extension": ".py",
   "mimetype": "text/x-python",
   "name": "python",
   "nbconvert_exporter": "python",
   "pygments_lexer": "ipython3",
   "version": "3.10.9"
  }
 },
 "nbformat": 4,
 "nbformat_minor": 5
}
